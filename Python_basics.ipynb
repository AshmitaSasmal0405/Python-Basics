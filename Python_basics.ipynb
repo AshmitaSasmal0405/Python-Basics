{
  "nbformat": 4,
  "nbformat_minor": 0,
  "metadata": {
    "colab": {
      "provenance": []
    },
    "kernelspec": {
      "name": "python3",
      "display_name": "Python 3"
    },
    "language_info": {
      "name": "python"
    }
  },
  "cells": [
    {
      "cell_type": "markdown",
      "source": [
        " # ------   Python Basics   ------\n",
        "\n",
        "\n",
        "1. What is Python, and why is it popular?\n",
        "   - Python is programming language  for creating instruction for a computer to follow , set of rule and symbol that define the process of writing .\n",
        "  - python is popular because a) it is easy to learn, b) Versatile ,  c)Pyhton has lot of library, d)Huge active community\n",
        "\n",
        "2. What is an interpreter in Python?\n",
        "   - In python , an 'Interpreter' is a programs that directly executes python code line by line,translating(high level language) each statment into machine code that computer can understand.\n",
        "\n",
        "3. What are pre-defined keywords in Python?\n",
        "  - Pre-define keywords that hold a special meaning and have specific purpose in python. Example: False, None , class, or, pass, continue etc.                                                                \n",
        "  - for all pre- define keywords we write code:-                   print(help('keywords'));\n",
        "\n",
        "4. Can keywords be used as variable names?\n",
        "  - No keywords cannot be used as variable name.\n",
        "\n",
        "5. What is mutability in Python?\n",
        "  - Objects/ container whose state or value can be changed after they are created are called as mutable object or container also called as item assignment, and the process is mutibility in python.\n",
        "\n",
        "6. Why are lists mutable, but tuples are immutable?\n",
        "  - Lists are mutable because it can change after they are created.\n",
        "   - Tuples are immutable because it can not change after they are created.\n",
        "\n",
        "7. What is the difference between “==” and “is” operators in Python?\n",
        "  -  The '==' operator in python is used for value comparison. It checks if the values of two object are equal. If the values are same , it returns True, otherwise False.\n",
        "   - The 'is' operator in python is used for identity comparison. It checks if two variable refer to the same object in memory. It does not compare values , it checks whether the variable point to the  variables point to the same memory location.\n",
        "\n",
        "8. What are logical operators in Python?\n",
        "  - Logical operator are - 1) and operator , 2) or operator 3) not operator.\n",
        "\n",
        "9. What is type casting in Python?\n",
        "  - Type casting is process  of changing the data type of a value like:-\n",
        "   - a= \"2\";\n",
        "         print(type(a));\n",
        "         print(type(int(a)));\n",
        "    #output:\n",
        "        <class'str'>\n",
        "        <class<'int'>\n",
        "\n",
        "10. What is the difference between implicit and explicit type casting?\n",
        "   - implicit: 1) it is done automatically 2)implicit conversion do not require any special syntax.\n",
        "   - explicit: 1) it is done programatically 2)explicit type casting require cast operator to perform conversion.\n",
        "\n",
        "11. What is the purpose of conditional statements in Python?\n",
        "   - Conditional statment help to code decisions based on some precondition.\n",
        "\n",
        "12. How does the elif statement work?\n",
        "   - The 'elif'statment stands for else and if . It can be used in conditional statments to check for multiple condition. For example: if the first condition is false then , it moves to the next \"elif\" statment to check if that condition is true.\n",
        "\n",
        "13. What is the difference between for and while loops?\n",
        "   - for loop: for loop is used when the number of iteration is already known.\n",
        "   - while loop: while loop is used when the number of iteration is already unknown.\n",
        "\n",
        "14. Describe a scenario where a while loop is more suitable than a for loop.\n",
        " -  REAL LIFE SCENARIO:A while loop is useful when checking if a device is connected to wifi , as we don't know how many attempts it will take before the connections is establish."
      ],
      "metadata": {
        "id": "DKI9Sjb47cho"
      }
    },
    {
      "cell_type": "code",
      "source": [
        "#1.Write a Python program to print \"Hello, World!_\n",
        "print(\"Hello, World!_\");"
      ],
      "metadata": {
        "colab": {
          "base_uri": "https://localhost:8080/"
        },
        "id": "g7W_6AzNmRdo",
        "outputId": "bfa46796-82c5-40c8-d267-740ebf133d85"
      },
      "execution_count": null,
      "outputs": [
        {
          "output_type": "stream",
          "name": "stdout",
          "text": [
            "Hello, World!_\n"
          ]
        }
      ]
    },
    {
      "cell_type": "code",
      "source": [
        "#2.Write a Python program that displays your name and age.\n",
        "my_name=\"Ashmita Sasmal\";\n",
        "my_age=20;\n",
        "print(my_name);\n",
        "print(my_age);"
      ],
      "metadata": {
        "colab": {
          "base_uri": "https://localhost:8080/"
        },
        "id": "SC1eX-GCmwW1",
        "outputId": "102c4878-552b-4ddc-fb29-09c248d04e87"
      },
      "execution_count": null,
      "outputs": [
        {
          "output_type": "stream",
          "name": "stdout",
          "text": [
            "Ashmita Sasmal\n",
            "20\n"
          ]
        }
      ]
    },
    {
      "cell_type": "code",
      "source": [
        "#3.Write code to print all the pre-defined keywords in Python using the keyword library.\n",
        "print(help('keywords'));\n",
        "\n",
        "\n"
      ],
      "metadata": {
        "colab": {
          "base_uri": "https://localhost:8080/"
        },
        "id": "NOwV2-OKnXEI",
        "outputId": "6a995714-53fe-435e-e5f0-38400ca381c2"
      },
      "execution_count": null,
      "outputs": [
        {
          "output_type": "stream",
          "name": "stdout",
          "text": [
            "\n",
            "Here is a list of the Python keywords.  Enter any keyword to get more help.\n",
            "\n",
            "False               class               from                or\n",
            "None                continue            global              pass\n",
            "True                def                 if                  raise\n",
            "and                 del                 import              return\n",
            "as                  elif                in                  try\n",
            "assert              else                is                  while\n",
            "async               except              lambda              with\n",
            "await               finally             nonlocal            yield\n",
            "break               for                 not                 \n",
            "\n",
            "None\n"
          ]
        }
      ]
    },
    {
      "cell_type": "code",
      "source": [
        "#4. Write a program that checks if a given word is a Python keyword.\n",
        "word = input(\"Enter a word: \")\n",
        "\n",
        "keywords = [\"False\", \"None\", \"True\", \"and\", \"as\", \"assert\", \"async\", \"await\", \"break\", \"class\", \"continue\", \"def\", \"del\", \"elif\", \"else\", \"except\", \"finally\", \"for\", \"from\", \"global\", \"if\", \"import\", \"in\", \"is\", \"lambda\", \"nonlocal\", \"not\", \"or\", \"pass\", \"raise\", \"return\", \"try\", \"while\", \"with\", \"yield\"]\n",
        "\n",
        "is_keyword = word in keywords\n",
        "\n",
        "print(f\"{word} is a Python keyword.\") if is_keyword else print(f\"{word} is not a Python keyword.\")\n",
        "\n",
        "\n",
        "\n"
      ],
      "metadata": {
        "id": "sz0cJclcvK21",
        "colab": {
          "base_uri": "https://localhost:8080/"
        },
        "outputId": "6fb44d56-10e5-458b-83b8-94ff8e5aad9c"
      },
      "execution_count": 1,
      "outputs": [
        {
          "output_type": "stream",
          "name": "stdout",
          "text": [
            "Enter a word: HGHHJK\n",
            "HGHHJK is not a Python keyword.\n"
          ]
        }
      ]
    },
    {
      "cell_type": "code",
      "source": [
        "#5. Create a list and tuple in Python, and demonstrate how attempting to change an element works differently for each.\n",
        "my_list = [1, 2, 3]\n",
        "my_tuple = (1, 2, 3)\n",
        "\n",
        "my_list[0] = 4  # This works, lists are mutable\n",
        "print(my_list)  # Output: [4, 2, 3]\n",
        "\n",
        "my_tuple[0] = 4  # This will raise a TypeError, tuples are immutable\n",
        "\n",
        "\n",
        "\n",
        "\n"
      ],
      "metadata": {
        "id": "bGn818Wzsu4m",
        "colab": {
          "base_uri": "https://localhost:8080/",
          "height": 228
        },
        "outputId": "0bea263b-bf21-4fec-b297-144a50ed4cd3"
      },
      "execution_count": 2,
      "outputs": [
        {
          "output_type": "stream",
          "name": "stdout",
          "text": [
            "[4, 2, 3]\n"
          ]
        },
        {
          "output_type": "error",
          "ename": "TypeError",
          "evalue": "'tuple' object does not support item assignment",
          "traceback": [
            "\u001b[0;31m---------------------------------------------------------------------------\u001b[0m",
            "\u001b[0;31mTypeError\u001b[0m                                 Traceback (most recent call last)",
            "\u001b[0;32m<ipython-input-2-586a9299b70f>\u001b[0m in \u001b[0;36m<cell line: 0>\u001b[0;34m()\u001b[0m\n\u001b[1;32m      6\u001b[0m \u001b[0mprint\u001b[0m\u001b[0;34m(\u001b[0m\u001b[0mmy_list\u001b[0m\u001b[0;34m)\u001b[0m  \u001b[0;31m# Output: [4, 2, 3]\u001b[0m\u001b[0;34m\u001b[0m\u001b[0;34m\u001b[0m\u001b[0m\n\u001b[1;32m      7\u001b[0m \u001b[0;34m\u001b[0m\u001b[0m\n\u001b[0;32m----> 8\u001b[0;31m \u001b[0mmy_tuple\u001b[0m\u001b[0;34m[\u001b[0m\u001b[0;36m0\u001b[0m\u001b[0;34m]\u001b[0m \u001b[0;34m=\u001b[0m \u001b[0;36m4\u001b[0m  \u001b[0;31m# This will raise a TypeError, tuples are immutable\u001b[0m\u001b[0;34m\u001b[0m\u001b[0;34m\u001b[0m\u001b[0m\n\u001b[0m\u001b[1;32m      9\u001b[0m \u001b[0;34m\u001b[0m\u001b[0m\n\u001b[1;32m     10\u001b[0m \u001b[0;34m\u001b[0m\u001b[0m\n",
            "\u001b[0;31mTypeError\u001b[0m: 'tuple' object does not support item assignment"
          ]
        }
      ]
    },
    {
      "cell_type": "code",
      "source": [
        "#6.Write a function to demonstrate the behavior of mutable and immutable argument\n",
        "def modify_arguments(immutable_arg, mutable_arg):\n",
        "    \"\"\"\n",
        "    Demonstrates the behavior of mutable and immutable arguments.\n",
        "\n",
        "    Args:\n",
        "        immutable_arg: An immutable argument (e.g., integer, string).\n",
        "        mutable_arg: A mutable argument (e.g., list).\n",
        "    \"\"\"\n",
        "    immutable_arg += 1\n",
        "    mutable_arg.append(4)\n",
        "\n",
        "    print(\"Inside function:\")\n",
        "    print(f\"Immutable argument: {immutable_arg}\")\n",
        "    print(f\"Mutable argument: {mutable_arg}\")\n",
        "\n",
        "\n",
        "\n",
        "immutable_val = 10\n",
        "mutable_val = [1, 2, 3]\n",
        "\n",
        "print(\"Before function call:\")\n",
        "print(f\"Immutable value: {immutable_val}\")\n",
        "print(f\"Mutable value: {mutable_val}\")\n",
        "\n",
        "modify_arguments(immutable_val, mutable_val)\n",
        "\n",
        "print(\"\\nAfter function call:\")\n",
        "print(f\"Immutable value: {immutable_val}\")\n",
        "print(f\"Mutable value: {mutable_val}\")\n"
      ],
      "metadata": {
        "colab": {
          "base_uri": "https://localhost:8080/"
        },
        "id": "8xGE-0a6zdnx",
        "outputId": "75516886-a261-4e00-dc9a-8d03a9e68f8a"
      },
      "execution_count": null,
      "outputs": [
        {
          "output_type": "stream",
          "name": "stdout",
          "text": [
            "Before function call:\n",
            "Immutable value: 10\n",
            "Mutable value: [1, 2, 3]\n",
            "Inside function:\n",
            "Immutable argument: 11\n",
            "Mutable argument: [1, 2, 3, 4]\n",
            "\n",
            "After function call:\n",
            "Immutable value: 10\n",
            "Mutable value: [1, 2, 3, 4]\n"
          ]
        }
      ]
    },
    {
      "cell_type": "code",
      "source": [
        "#7.Write a function to demonstrate the behavior of mutable and immutable argument\n",
        "def modify_arguments(immutable_arg, mutable_arg):\n",
        "    \"\"\"\n",
        "    Demonstrates the behavior of mutable and immutable arguments.\n",
        "\n",
        "    Args:\n",
        "        immutable_arg: An immutable argument (e.g., integer, string).\n",
        "        mutable_arg: A mutable argument (e.g., list).\n",
        "    \"\"\"\n",
        "    immutable_arg += 1  # Attempt to modify the immutable argument\n",
        "    mutable_arg.append(4)  # Modify the mutable argument\n",
        "\n",
        "    print(\"Inside function:\")\n",
        "    print(f\"Immutable argument: {immutable_arg}\")\n",
        "    print(f\"Mutable argument: {mutable_arg}\")\n",
        "\n",
        "\n",
        "# Example usage\n",
        "immutable_val = 10\n",
        "mutable_val = [1, 2, 3]\n",
        "\n",
        "print(\"Before function call:\")\n",
        "print(f\"Immutable value: {immutable_val}\")\n",
        "print(f\"Mutable value: {mutable_val}\")\n",
        "\n",
        "modify_arguments(immutable_val, mutable_val)\n",
        "\n",
        "print(\"\\nAfter function call:\")\n",
        "print(f\"Immutable value: {immutable_val}\")\n",
        "print(f\"Mutable value: {mutable_val}\")\n"
      ],
      "metadata": {
        "colab": {
          "base_uri": "https://localhost:8080/"
        },
        "id": "WpSdk6iE1eVy",
        "outputId": "c925df38-429a-451c-c2d0-1d739b88d318"
      },
      "execution_count": null,
      "outputs": [
        {
          "output_type": "stream",
          "name": "stdout",
          "text": [
            "Before function call:\n",
            "Immutable value: 10\n",
            "Mutable value: [1, 2, 3]\n",
            "Inside function:\n",
            "Immutable argument: 11\n",
            "Mutable argument: [1, 2, 3, 4]\n",
            "\n",
            "After function call:\n",
            "Immutable value: 10\n",
            "Mutable value: [1, 2, 3, 4]\n"
          ]
        }
      ]
    },
    {
      "cell_type": "code",
      "source": [
        "#8.Write a program to demonstrate the use of logical operator\n",
        "a= not True;\n",
        "b= True;\n",
        "c= a and b;\n",
        "d= a or b;\n",
        "print(c);\n",
        "print(d);\n",
        "print(a);"
      ],
      "metadata": {
        "colab": {
          "base_uri": "https://localhost:8080/"
        },
        "id": "H2UyDkFM1kv1",
        "outputId": "310718b2-aab0-4d11-f080-77edfe007af0"
      },
      "execution_count": null,
      "outputs": [
        {
          "output_type": "stream",
          "name": "stdout",
          "text": [
            "False\n",
            "True\n",
            "False\n"
          ]
        }
      ]
    },
    {
      "cell_type": "code",
      "source": [
        "#9.Write a Python program to convert user input from string to integer, float, and boolean types\n",
        "a=input(\"enter anything\");\n",
        "print(type(a));\n",
        "print(type(int(a)));\n",
        "print((int(a)));\n",
        "print(type(float(a)));\n",
        "print((float(a)));\n",
        "print(type(bool(a)));\n",
        "print((bool(a)));\n",
        "\n"
      ],
      "metadata": {
        "colab": {
          "base_uri": "https://localhost:8080/"
        },
        "id": "HDds7NTn2-iJ",
        "outputId": "43c28ca6-6e3a-41ad-ae7f-63e228d47164"
      },
      "execution_count": null,
      "outputs": [
        {
          "output_type": "stream",
          "name": "stdout",
          "text": [
            "enter anything43\n",
            "<class 'str'>\n",
            "<class 'int'>\n",
            "43\n",
            "<class 'float'>\n",
            "43.0\n",
            "<class 'bool'>\n",
            "True\n"
          ]
        }
      ]
    },
    {
      "cell_type": "code",
      "source": [
        "#10.Write code to demonstrate type casting with list elements\n",
        "a=[1,2,4,]\n",
        "print(type(a));\n",
        "print(type(str(a)));\n",
        "print(str(a));\n",
        "\n",
        "\n",
        "\n",
        "\n"
      ],
      "metadata": {
        "colab": {
          "base_uri": "https://localhost:8080/"
        },
        "id": "KYQjjVsD9uXN",
        "outputId": "af29fb69-decb-4b32-ea13-dc82d8808ace"
      },
      "execution_count": null,
      "outputs": [
        {
          "output_type": "stream",
          "name": "stdout",
          "text": [
            "<class 'list'>\n",
            "<class 'str'>\n",
            "[1, 2, 4]\n"
          ]
        }
      ]
    },
    {
      "cell_type": "code",
      "source": [
        "#11.Write a program that checks if a number is positive, negative, or zero\n",
        "\n",
        "a=int(input(\"enter a number\"));\n",
        "if(a>0):\n",
        "  print(\"positive\");\n",
        "elif(a<0):\n",
        "    print(\"negative\");\n",
        "else:\n",
        "      print(\"zero\");\n"
      ],
      "metadata": {
        "colab": {
          "base_uri": "https://localhost:8080/"
        },
        "id": "4yS5BOGk_tbH",
        "outputId": "957678cf-c106-4ad1-9786-dc4843769190"
      },
      "execution_count": null,
      "outputs": [
        {
          "output_type": "stream",
          "name": "stdout",
          "text": [
            "enter a number-876\n",
            "negative\n"
          ]
        }
      ]
    },
    {
      "cell_type": "code",
      "source": [
        "#12.Write a for loop to print numbers from 1 to 10\n",
        "for i in range(1,11,1):\n",
        "  print(i);"
      ],
      "metadata": {
        "colab": {
          "base_uri": "https://localhost:8080/"
        },
        "id": "M2d5mC2mAl0R",
        "outputId": "74360256-ebfc-4815-be15-29803504b103"
      },
      "execution_count": null,
      "outputs": [
        {
          "output_type": "stream",
          "name": "stdout",
          "text": [
            "1\n",
            "2\n",
            "3\n",
            "4\n",
            "5\n",
            "6\n",
            "7\n",
            "8\n",
            "9\n",
            "10\n"
          ]
        }
      ]
    },
    {
      "cell_type": "code",
      "source": [
        "#13.Write a Python program to find the sum of all even numbers between 1 and 50\n",
        "sum=0;\n",
        "for i in range(1,51,1):\n",
        "  if(i%2==0):\n",
        "\n",
        "    sum=sum + i\n",
        "print(sum);\n"
      ],
      "metadata": {
        "colab": {
          "base_uri": "https://localhost:8080/"
        },
        "id": "smrWBQJ5BBim",
        "outputId": "f236c2cc-aed3-4376-9187-a8aa98a15cab"
      },
      "execution_count": null,
      "outputs": [
        {
          "output_type": "stream",
          "name": "stdout",
          "text": [
            "650\n"
          ]
        }
      ]
    },
    {
      "cell_type": "code",
      "source": [
        "#14.Write a program to reverse a string using a while loop.\n",
        "\n",
        "string_to_reverse = input(\"Enter a string: \")\n",
        "\n",
        "\n",
        "reversed_string = \"\"\n",
        "index = len(string_to_reverse) - 1\n",
        "\n",
        "\n",
        "while index >= 0:\n",
        "    reversed_string += string_to_reverse[index]\n",
        "    index -= 1\n",
        "\n",
        "\n",
        "print(\"Reversed string:\", reversed_string)\n",
        "\n",
        "\n"
      ],
      "metadata": {
        "id": "2nBRNCSQEt2y",
        "colab": {
          "base_uri": "https://localhost:8080/"
        },
        "outputId": "a5a79e78-a7b4-4d6d-ed7a-040b4aa165e8"
      },
      "execution_count": 3,
      "outputs": [
        {
          "output_type": "stream",
          "name": "stdout",
          "text": [
            "Enter a string: ASHMITA\n",
            "Reversed string: ATIMHSA\n"
          ]
        }
      ]
    },
    {
      "cell_type": "code",
      "source": [
        "#15.Write a Python program to calculate the factorial of a number provided by the user using a while loop.\n",
        "\n",
        "num = int(input(\"Enter a number: \"))\n",
        "factorial = 1\n",
        "i = 1\n",
        "while i <= num:\n",
        "    factorial *= i\n",
        "    i += 1\n",
        "\n",
        "\n",
        "print(\"The factorial of\", num, \"is\", factorial)\n",
        "\n",
        "\n",
        "\n"
      ],
      "metadata": {
        "id": "3enbruGSM-r_",
        "colab": {
          "base_uri": "https://localhost:8080/"
        },
        "outputId": "11d7de47-3609-4a38-c4ad-9f8d7ac15eb2"
      },
      "execution_count": 4,
      "outputs": [
        {
          "output_type": "stream",
          "name": "stdout",
          "text": [
            "Enter a number: 11\n",
            "The factorial of 11 is 39916800\n"
          ]
        }
      ]
    }
  ]
}